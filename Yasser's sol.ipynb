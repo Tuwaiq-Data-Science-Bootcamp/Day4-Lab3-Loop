{
 "cells": [
  {
   "cell_type": "code",
   "execution_count": 8,
   "metadata": {},
   "outputs": [
    {
     "name": "stdout",
     "output_type": "stream",
     "text": [
      "200\n",
      "201\n",
      "202\n",
      "203\n",
      "204\n",
      "205\n"
     ]
    }
   ],
   "source": [
    "#1\n",
    "for i in range(200,207):\n",
    "    if i == 205:\n",
    "        break\n",
    "    elif i != 100:\n",
    "        print(i)\n",
    "    \n",
    "    \n",
    "\n"
   ]
  },
  {
   "cell_type": "code",
   "execution_count": 4,
   "metadata": {},
   "outputs": [
    {
     "name": "stdout",
     "output_type": "stream",
     "text": [
      "You answered this Question correctly\n"
     ]
    }
   ],
   "source": [
    "#2\n",
    "while True:\n",
    "    if input(\"what is the product of 7 * 24 ?\") != str(7*24):\n",
    "        print(\"Your Answer is wrong try again..\")\n",
    "    else:\n",
    "        break\n",
    "print(\"You answered this Question correctly\")\n",
    "    "
   ]
  },
  {
   "cell_type": "code",
   "execution_count": null,
   "metadata": {},
   "outputs": [],
   "source": []
  }
 ],
 "metadata": {
  "kernelspec": {
   "display_name": "Python 3.10.8 64-bit",
   "language": "python",
   "name": "python3"
  },
  "language_info": {
   "codemirror_mode": {
    "name": "ipython",
    "version": 3
   },
   "file_extension": ".py",
   "mimetype": "text/x-python",
   "name": "python",
   "nbconvert_exporter": "python",
   "pygments_lexer": "ipython3",
   "version": "3.10.8"
  },
  "orig_nbformat": 4,
  "vscode": {
   "interpreter": {
    "hash": "37790ba2a09019fe53a2f1d81386b9ad2e2158e92ef42af577a5cadc6d647896"
   }
  }
 },
 "nbformat": 4,
 "nbformat_minor": 2
}
