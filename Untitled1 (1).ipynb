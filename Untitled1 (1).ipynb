{
 "cells": [
  {
   "cell_type": "code",
   "execution_count": null,
   "id": "5216bc1d",
   "metadata": {},
   "outputs": [
    {
     "name": "stdout",
     "output_type": "stream",
     "text": [
      "what is the product of 7 * 24 ?99\n",
      "99\n",
      "Your Answer is wrong try again..\n",
      "what is the product of 7 * 24 ?1\n",
      "1\n",
      "Your Answer is wrong try again..\n",
      "what is the product of 7 * 24 ?1\n",
      "1\n",
      "Your Answer is wrong try again..\n"
     ]
    }
   ],
   "source": [
    "\n",
    " #print(\"You answered this Question correctly\") \n",
    "\n",
    "\n",
    "while True:\n",
    "    val = input(\"what is the product of 7 * 24 ?\")\n",
    "    print(val)  \n",
    "    if val == 1:\n",
    "        print(\"You answered this Question correctly\")\n",
    "        break\n",
    "            \n",
    "    elif val != 7 * 24:    \n",
    "        print(\"Your Answer is wrong try again..\") \n",
    " \n",
    "\n",
    "\n"
   ]
  },
  {
   "cell_type": "code",
   "execution_count": null,
   "id": "e5089794",
   "metadata": {},
   "outputs": [],
   "source": [
    "\n",
    "\n",
    "for num in range(45, 210):\n",
    "    if num == 100:\n",
    "        continue\n",
    "    if num == 205:\n",
    "        break\n",
    "        \n",
    "    print(num)"
   ]
  },
  {
   "cell_type": "code",
   "execution_count": null,
   "id": "c41f6a91",
   "metadata": {},
   "outputs": [],
   "source": []
  }
 ],
 "metadata": {
  "kernelspec": {
   "display_name": "Python 3 (ipykernel)",
   "language": "python",
   "name": "python3"
  },
  "language_info": {
   "codemirror_mode": {
    "name": "ipython",
    "version": 3
   },
   "file_extension": ".py",
   "mimetype": "text/x-python",
   "name": "python",
   "nbconvert_exporter": "python",
   "pygments_lexer": "ipython3",
   "version": "3.9.13"
  }
 },
 "nbformat": 4,
 "nbformat_minor": 5
}
