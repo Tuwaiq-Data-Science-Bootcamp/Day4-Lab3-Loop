{
 "cells": [
  {
   "cell_type": "code",
   "execution_count": 6,
   "id": "345d02f4",
   "metadata": {},
   "outputs": [
    {
     "name": "stdout",
     "output_type": "stream",
     "text": [
      "what is the product of 7 * 24 ?168\n",
      "You answered this Question correctly\n"
     ]
    }
   ],
   "source": [
    "while True : \n",
    "    x = int(input(\"what is the product of 7 * 24 ?\")) \n",
    "    if x == 168 :\n",
    "        print(\"You answered this Question correctly\")\n",
    "        break \n",
    "    \n",
    "    print (\"Your Answer is wrong try again..\")\n",
    "     \n",
    "   "
   ]
  },
  {
   "cell_type": "code",
   "execution_count": null,
   "id": "daeb0cc4",
   "metadata": {},
   "outputs": [],
   "source": [
    "for n in range (45,210):\n",
    "    if n == 100 : \n",
    "        continue \n",
    "    if n == 205 : \n",
    "        break \n",
    "    print (n)"
   ]
  },
  {
   "cell_type": "code",
   "execution_count": null,
   "id": "1bea3754",
   "metadata": {},
   "outputs": [],
   "source": []
  }
 ],
 "metadata": {
  "kernelspec": {
   "display_name": "Python 3 (ipykernel)",
   "language": "python",
   "name": "python3"
  },
  "language_info": {
   "codemirror_mode": {
    "name": "ipython",
    "version": 3
   },
   "file_extension": ".py",
   "mimetype": "text/x-python",
   "name": "python",
   "nbconvert_exporter": "python",
   "pygments_lexer": "ipython3",
   "version": "3.9.13"
  }
 },
 "nbformat": 4,
 "nbformat_minor": 5
}
